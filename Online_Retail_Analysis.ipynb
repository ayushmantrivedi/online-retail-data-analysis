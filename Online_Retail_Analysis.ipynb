{
 "cells": [
  {
   "cell_type": "code",
   "execution_count": null,
   "id": "e2ebfd9b",
   "metadata": {},
   "outputs": [],
   "source": [
    "import pandas as pd\n",
    "import numpy as np\n",
    "import matplotlib.pyplot as plt\n",
    "from pathlib import Path"
   ]
  },
  {
   "cell_type": "code",
   "execution_count": null,
   "id": "6cb359d9",
   "metadata": {},
   "outputs": [],
   "source": [
    "# Display settings\n",
    "pd.set_option('display.max_columns', None)\n",
    "pd.set_option('display.width', 1000)\n",
    "pd.set_option('display.float_format', '{:.2f}'.format)"
   ]
  },
  {
   "cell_type": "code",
   "execution_count": null,
   "id": "b0c32a9e",
   "metadata": {},
   "outputs": [],
   "source": [
    "def setup_directories():\n",
    "    output_dir = Path(\"output\")\n",
    "    plots_dir = output_dir / \"plots\"\n",
    "    output_dir.mkdir(exist_ok=True)\n",
    "    plots_dir.mkdir(exist_ok=True)\n",
    "    return output_dir, plots_dir"
   ]
  },
  {
   "cell_type": "code",
   "execution_count": null,
   "id": "c8b4697a",
   "metadata": {},
   "outputs": [],
   "source": [
    "def load_and_inspect_data(csv_path):\n",
    "    # Try with default encoding first\n",
    "    try:\n",
    "        df = pd.read_csv(csv_path)\n",
    "    except UnicodeDecodeError:\n",
    "        # If that fails, try with cp1252 encoding (for MS-DOS CSV)\n",
    "        df = pd.read_csv(csv_path, encoding='cp1252')\n",
    "    \n",
    "    print(\"\\nData Overview:\")\n",
    "    print(f\"Shape: {df.shape}\")\n",
    "    print(\"Columns:\", df.columns.tolist())\n",
    "    print(\"\\nMissing Values:\")\n",
    "    print(df.isnull().sum())\n",
    "    return df"
   ]
  },
  {
   "cell_type": "code",
   "execution_count": null,
   "id": "348695a5",
   "metadata": {},
   "outputs": [],
   "source": [
    "def clean_and_preprocess(df):\n",
    "    print(\"\\nCleaning and preprocessing data...\")\n",
    "    df = df.dropna(subset=[\"CustomerID\", \"InvoiceNo\"])\n",
    "    df[\"InvoiceDate\"] = pd.to_datetime(df[\"InvoiceDate\"])\n",
    "    df = df[(df[\"Quantity\"] > 0) & (df[\"UnitPrice\"] > 0)]\n",
    "    df[\"TotalPrice\"] = df[\"Quantity\"] * df[\"UnitPrice\"]\n",
    "    df[\"CustomerID\"] = df[\"CustomerID\"].fillna(\"Unknown\").astype(str)\n",
    "    return df"
   ]
  },
  {
   "cell_type": "code",
   "execution_count": null,
   "id": "6349cb08",
   "metadata": {},
   "outputs": [],
   "source": [
    "def basic_analysis(df):\n",
    "    print(\"\\nBasic Statistics:\")\n",
    "    print(df.describe())\n",
    "    print(\"\\nTop 10 Products by Sales:\")\n",
    "    print(df.groupby(\"Description\")[\"TotalPrice\"].sum().sort_values(ascending=False).head(10))"
   ]
  },
  {
   "cell_type": "code",
   "execution_count": null,
   "id": "02c30135",
   "metadata": {},
   "outputs": [],
   "source": [
    "def create_visualizations(df, plots_dir):\n",
    "    print(\"\\nCreating visualizations...\")"
   ]
  },
  {
   "cell_type": "code",
   "execution_count": null,
   "id": "6642cf2a",
   "metadata": {},
   "outputs": [],
   "source": [
    "    # Daily sales\n",
    "    df_daily = df.set_index(\"InvoiceDate\").resample(\"D\")[\"TotalPrice\"].sum()\n",
    "    plt.figure(figsize=(12,6))\n",
    "    df_daily.plot()\n",
    "    plt.title(\"Daily Sales Trend\")\n",
    "    plt.xlabel(\"Date\")\n",
    "    plt.ylabel(\"Revenue\")\n",
    "    plt.tight_layout()\n",
    "    plt.savefig(plots_dir / \"daily_sales_trend.png\")\n",
    "    plt.close()"
   ]
  },
  {
   "cell_type": "code",
   "execution_count": null,
   "id": "6adae3d1",
   "metadata": {},
   "outputs": [],
   "source": [
    "    # Top 10 countries\n",
    "    top_countries = df.groupby(\"Country\")[\"TotalPrice\"].sum().sort_values(ascending=False).head(10)\n",
    "    plt.figure(figsize=(10,6))\n",
    "    top_countries.plot(kind=\"bar\")\n",
    "    plt.title(\"Top 10 Countries by Revenue\")\n",
    "    plt.ylabel(\"Revenue\")\n",
    "    plt.xticks(rotation=45)\n",
    "    plt.tight_layout()\n",
    "    plt.savefig(plots_dir / \"top_countries.png\")\n",
    "    plt.close()"
   ]
  },
  {
   "cell_type": "code",
   "execution_count": null,
   "id": "91fa88a5",
   "metadata": {},
   "outputs": [],
   "source": [
    "    # Top 10 products\n",
    "    top_products = df.groupby(\"Description\")[\"TotalPrice\"].sum().sort_values(ascending=False).head(10)\n",
    "    plt.figure(figsize=(10,6))\n",
    "    top_products.plot(kind=\"barh\")\n",
    "    plt.title(\"Top 10 Products by Revenue\")\n",
    "    plt.xlabel(\"Revenue\")\n",
    "    plt.tight_layout()\n",
    "    plt.savefig(plots_dir / \"top_products.png\")\n",
    "    plt.close()"
   ]
  },
  {
   "cell_type": "code",
   "execution_count": null,
   "id": "10c0c29f",
   "metadata": {},
   "outputs": [],
   "source": [
    "def analyze_customer_behavior(df):\n",
    "    print(\"\\nCustomer Analysis:\")\n",
    "    customer_df = df.groupby(\"CustomerID\").agg({\n",
    "        \"InvoiceNo\": pd.Series.nunique,\n",
    "        \"Quantity\": np.sum,\n",
    "        \"TotalPrice\": np.sum\n",
    "    }).rename(columns={\"InvoiceNo\": \"NumOrders\"})"
   ]
  },
  {
   "cell_type": "code",
   "execution_count": null,
   "id": "5755a994",
   "metadata": {},
   "outputs": [],
   "source": [
    "    print(\"\\nTop 5 Customers by Revenue:\")\n",
    "    print(customer_df.sort_values(\"TotalPrice\", ascending=False).head())"
   ]
  },
  {
   "cell_type": "code",
   "execution_count": null,
   "id": "2e80c876",
   "metadata": {},
   "outputs": [],
   "source": [
    "def save_outputs(df, output_dir):\n",
    "    df.to_csv(output_dir / \"cleaned_online_retail.csv\", index=False)\n",
    "    print(f\"\\nCleaned data saved to {output_dir / 'cleaned_online_retail.csv'}\")"
   ]
  },
  {
   "cell_type": "code",
   "execution_count": null,
   "id": "87398707",
   "metadata": {},
   "outputs": [],
   "source": [
    "def main():\n",
    "    # Updated with your provided path\n",
    "    csv_path = r\"C:\\Users\\ayush\\OneDrive\\Desktop\\Copy of Online Retail.csv\"\n",
    "    output_dir, plots_dir = setup_directories()\n",
    "    \n",
    "    try:\n",
    "        df = load_and_inspect_data(csv_path)\n",
    "        df_clean = clean_and_preprocess(df)\n",
    "        basic_analysis(df_clean)\n",
    "        create_visualizations(df_clean, plots_dir)\n",
    "        analyze_customer_behavior(df_clean)\n",
    "        save_outputs(df_clean, output_dir)\n",
    "        print(\"\\n🎉 Analysis complete!\")\n",
    "    except Exception as e:\n",
    "        print(f\"An error occurred: {e}\")\n",
    "        print(\"If this is an encoding issue, try opening the CSV file and resaving it as a standard CSV.\")"
   ]
  },
  {
   "cell_type": "code",
   "execution_count": null,
   "id": "2f2eacc0",
   "metadata": {},
   "outputs": [],
   "source": [
    "if __name__ == \"__main__\":\n",
    "    main()"
   ]
  }
 ],
 "metadata": {},
 "nbformat": 4,
 "nbformat_minor": 5
}
